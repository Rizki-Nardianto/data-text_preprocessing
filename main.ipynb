{
 "cells": [
  {
   "attachments": {},
   "cell_type": "markdown",
   "metadata": {},
   "source": [
    "# Preprocessing Data Teks\n",
    "\n",
    "Pemrosesan dilakukan dengan menggunakan beberapa tahapan:"
   ]
  },
  {
   "cell_type": "code",
   "execution_count": 2,
   "metadata": {},
   "outputs": [],
   "source": [
    "import pandas as pd\n",
    "import numpy as np\n",
    "import re     \n",
    "import matplotlib.pyplot as plt\n",
    "import csv\n",
    "import sys\n",
    "\n",
    "if not sys.warnoptions:\n",
    "    import warnings\n",
    "    warnings.simplefilter(\"ignore\")"
   ]
  },
  {
   "cell_type": "code",
   "execution_count": 4,
   "metadata": {},
   "outputs": [
    {
     "data": {
      "text/html": [
       "<div>\n",
       "<style scoped>\n",
       "    .dataframe tbody tr th:only-of-type {\n",
       "        vertical-align: middle;\n",
       "    }\n",
       "\n",
       "    .dataframe tbody tr th {\n",
       "        vertical-align: top;\n",
       "    }\n",
       "\n",
       "    .dataframe thead th {\n",
       "        text-align: right;\n",
       "    }\n",
       "</style>\n",
       "<table border=\"1\" class=\"dataframe\">\n",
       "  <thead>\n",
       "    <tr style=\"text-align: right;\">\n",
       "      <th></th>\n",
       "      <th>Judul</th>\n",
       "      <th>Tanggal</th>\n",
       "      <th>Penulis</th>\n",
       "      <th>Isi</th>\n",
       "      <th>Link Lengkap</th>\n",
       "    </tr>\n",
       "  </thead>\n",
       "  <tbody>\n",
       "    <tr>\n",
       "      <th>0</th>\n",
       "      <td>Kata Ganjar soal Nasaruddin Umar Mencuat Jadi ...</td>\n",
       "      <td>2023-05-18 11:52:38</td>\n",
       "      <td>['Https', 'Www.Facebook.Com Detikcom', 'Antara...</td>\n",
       "      <td>Imam Besar Masjid Istiqlal, Nasaruddin Umar, m...</td>\n",
       "      <td>https://news.detik.com/pemilu/d-6726464/kata-g...</td>\n",
       "    </tr>\n",
       "    <tr>\n",
       "      <th>1</th>\n",
       "      <td>Anies Usai Bertemu Paloh: Kita Makin Yakin Kea...</td>\n",
       "      <td>2023-05-18 11:43:50</td>\n",
       "      <td>['Rumondang Naibaho', 'Https', 'Www.Facebook.C...</td>\n",
       "      <td>Anies Baswedan bicara soal keadilan usai berte...</td>\n",
       "      <td>https://news.detik.com/pemilu/d-6726440/anies-...</td>\n",
       "    </tr>\n",
       "    <tr>\n",
       "      <th>2</th>\n",
       "      <td>Penjelasan Lengkap TNI Tepis Hoax Video Pangli...</td>\n",
       "      <td>2023-05-18 12:06:16</td>\n",
       "      <td>['Tim Detikcom', 'Https', 'Www.Facebook.Com De...</td>\n",
       "      <td>Beredar sebuah video yang dinarasikan Panglima...</td>\n",
       "      <td>https://news.detik.com/berita/d-6726472/penjel...</td>\n",
       "    </tr>\n",
       "    <tr>\n",
       "      <th>3</th>\n",
       "      <td>Heboh Dokter Ribut di Karen's Diner Bali, Mana...</td>\n",
       "      <td>2023-05-18 12:17:32</td>\n",
       "      <td>['Tim Detikcom', 'Https', 'Www.Facebook.Com De...</td>\n",
       "      <td>Seorang dokter inisial TK terlibat keributan d...</td>\n",
       "      <td>https://news.detik.com/berita/d-6726491/heboh-...</td>\n",
       "    </tr>\n",
       "    <tr>\n",
       "      <th>4</th>\n",
       "      <td>Cerita Manajer Timnas U-22 Kombes Sumardji Ken...</td>\n",
       "      <td>2023-05-17 13:03:21</td>\n",
       "      <td>['Audrey Santoso', 'Https', 'Www.Facebook.Com ...</td>\n",
       "      <td>Sosok Kombes Sumardji menjadi sorotan lantaran...</td>\n",
       "      <td>https://news.detik.com/berita/d-6724870/cerita...</td>\n",
       "    </tr>\n",
       "  </tbody>\n",
       "</table>\n",
       "</div>"
      ],
      "text/plain": [
       "                                               Judul              Tanggal   \n",
       "0  Kata Ganjar soal Nasaruddin Umar Mencuat Jadi ...  2023-05-18 11:52:38  \\\n",
       "1  Anies Usai Bertemu Paloh: Kita Makin Yakin Kea...  2023-05-18 11:43:50   \n",
       "2  Penjelasan Lengkap TNI Tepis Hoax Video Pangli...  2023-05-18 12:06:16   \n",
       "3  Heboh Dokter Ribut di Karen's Diner Bali, Mana...  2023-05-18 12:17:32   \n",
       "4  Cerita Manajer Timnas U-22 Kombes Sumardji Ken...  2023-05-17 13:03:21   \n",
       "\n",
       "                                             Penulis   \n",
       "0  ['Https', 'Www.Facebook.Com Detikcom', 'Antara...  \\\n",
       "1  ['Rumondang Naibaho', 'Https', 'Www.Facebook.C...   \n",
       "2  ['Tim Detikcom', 'Https', 'Www.Facebook.Com De...   \n",
       "3  ['Tim Detikcom', 'Https', 'Www.Facebook.Com De...   \n",
       "4  ['Audrey Santoso', 'Https', 'Www.Facebook.Com ...   \n",
       "\n",
       "                                                 Isi   \n",
       "0  Imam Besar Masjid Istiqlal, Nasaruddin Umar, m...  \\\n",
       "1  Anies Baswedan bicara soal keadilan usai berte...   \n",
       "2  Beredar sebuah video yang dinarasikan Panglima...   \n",
       "3  Seorang dokter inisial TK terlibat keributan d...   \n",
       "4  Sosok Kombes Sumardji menjadi sorotan lantaran...   \n",
       "\n",
       "                                        Link Lengkap  \n",
       "0  https://news.detik.com/pemilu/d-6726464/kata-g...  \n",
       "1  https://news.detik.com/pemilu/d-6726440/anies-...  \n",
       "2  https://news.detik.com/berita/d-6726472/penjel...  \n",
       "3  https://news.detik.com/berita/d-6726491/heboh-...  \n",
       "4  https://news.detik.com/berita/d-6724870/cerita...  "
      ]
     },
     "execution_count": 4,
     "metadata": {},
     "output_type": "execute_result"
    }
   ],
   "source": [
    "# read dataset \n",
    "# df = inisialisasi data frame \n",
    "df = pd.read_csv('data/Scrapping_detik.csv')\n",
    "df.head(5)"
   ]
  },
  {
   "attachments": {},
   "cell_type": "markdown",
   "metadata": {},
   "source": [
    "## Case Folding"
   ]
  },
  {
   "cell_type": "code",
   "execution_count": 17,
   "metadata": {},
   "outputs": [
    {
     "data": {
      "text/plain": [
       "0     imam besar masjid istiqlal, nasaruddin umar, m...\n",
       "1     anies baswedan bicara soal keadilan usai berte...\n",
       "2     beredar sebuah video yang dinarasikan panglima...\n",
       "3     seorang dokter inisial tk terlibat keributan d...\n",
       "4     sosok kombes sumardji menjadi sorotan lantaran...\n",
       "5     komisioner komnas ham anis hidayat menyebut pe...\n",
       "6     pesawat yang ditumpangi oleh komisioner komnas...\n",
       "7     pesawat jt992 rute makassar-kendari yang ditum...\n",
       "8     jagat maya dihebohkan dengan war tiket atau pe...\n",
       "9     sejumlah pejabat menghadiri acara halalbihalal...\n",
       "10    wakil ketua mpr ri ahmad muzani menuturkan kip...\n",
       "11    wakil ketua dpr ri muhaimin iskandar menyataka...\n",
       "12    menko polhukam mahfud md bicara terkait kasus ...\n",
       "13    partai persatuan pembangunan (ppp) mampu menai...\n",
       "14    menteri komunikasi dan informatika ,johnny g p...\n",
       "15    kebakaran melanda kios pasar di jalan benda ra...\n",
       "16    kejaksaan agung (kejagung) menetapkan menteri ...\n",
       "17    badan nasional penanggulangan terorisme republ...\n",
       "18    kebakaran sempat terjadi di pohon jubleg parun...\n",
       "19    pangeran harry dan istrinya meghan markle terl...\n",
       "20    puluhan bhante atau biksu menjalankan tradisi ...\n",
       "21    anies baswedan beberkan kriteria cawapres pend...\n",
       "22    polisi telah melakukan penyelidikan terkait ak...\n",
       "23    viral di media sosial seorang pria bertelanjan...\n",
       "24    menteri pertahanan (menhan) sekaligus ketua um...\n",
       "25    ikatan dokter indonesia (idi) menyebut dokter ...\n",
       "26    indikator politik indonesia melakukan survei t...\n",
       "27    krimea - kecelakaan kereta api terjadi di krim...\n",
       "28    seorang anak sd tertabrak bus dinas tni ad di ...\n",
       "29    pemerintah melalui kementerian desa, pembangun...\n",
       "30    lembaga survei indikator politik indonesia mer...\n",
       "31    menteri pertahanan (menhan) prabowo subianto m...\n",
       "32    anies baswedan angkat bicara terkait penetapan...\n",
       "33    hasil survei indikator politik indonesia menun...\n",
       "34    wali kota jakarta utara (walkot jakut) ali mau...\n",
       "35    jakarta - prabowo subianto menghadiri acara si...\n",
       "36    prabowo yang digadang-gadang menjadi bakal cap...\n",
       "37    seorang ibu di tulungagung membunuh bayinya se...\n",
       "38    para pemimpin dunia mulai tiba di hiroshima, j...\n",
       "39    lembaga survei indikator politik indonesia mer...\n",
       "40    komisioner komnas ham anis hidayah mengapresia...\n",
       "41    polisi memeriksa 15 saksi terkait laporan pene...\n",
       "42    rudi boy telah ditetapkan sebagai tersangka da...\n",
       "43    polisi menangkap eks pegawai penanganan prasar...\n",
       "44                                                  NaN\n",
       "45    seorang gadis asal tana toraja bernama agnes r...\n",
       "46    lembaga survei indikator politik indonesia mer...\n",
       "47    rudi boy telah ditetapkan sebagai tersangka ka...\n",
       "48    jalan penghubung masyarakat lagan ilir yang be...\n",
       "49    polisi menangkap pria bernama rudi boy, yang v...\n",
       "50    polisi masih memeriksa rudi boy, pria berbaju ...\n",
       "51    menteri pertahanan (menhan) prabowo subianto m...\n",
       "52    pesawat jt992 rute makassar-kendari yang ditum...\n",
       "53    polri menemukan dugaan penipuan dari penjualan...\n",
       "54    menteri pertahanan (menhan) sekaligus ketum pa...\n",
       "55    terpopuler di detiknews\\n\\nterakhir update : k...\n",
       "56    sekjen partai gerindra ahmad muzani menilai ke...\n",
       "57    mantan wakil presiden (wapres) republik indone...\n",
       "Name: Isi, dtype: object"
      ]
     },
     "execution_count": 17,
     "metadata": {},
     "output_type": "execute_result"
    }
   ],
   "source": [
    "df['Isi'] = df['Isi'].str.lower()\n",
    "df['Isi']"
   ]
  },
  {
   "attachments": {},
   "cell_type": "markdown",
   "metadata": {},
   "source": [
    "## Tokenization"
   ]
  },
  {
   "cell_type": "code",
   "execution_count": 22,
   "metadata": {},
   "outputs": [
    {
     "name": "stderr",
     "output_type": "stream",
     "text": [
      "[nltk_data] Downloading package punkt to\n",
      "[nltk_data]     C:\\Users\\HP\\AppData\\Roaming\\nltk_data...\n",
      "[nltk_data]   Package punkt is already up-to-date!\n"
     ]
    },
    {
     "data": {
      "text/plain": [
       "True"
      ]
     },
     "execution_count": 22,
     "metadata": {},
     "output_type": "execute_result"
    }
   ],
   "source": [
    "import nltk\n",
    "nltk.download('punkt')"
   ]
  },
  {
   "cell_type": "code",
   "execution_count": 34,
   "metadata": {},
   "outputs": [],
   "source": [
    "def tokenize(column):\n",
    "    tokens = nltk.sent_tokenize(column)\n",
    "    return [w for w in tokens if w.isalpha()]  "
   ]
  },
  {
   "cell_type": "code",
   "execution_count": 35,
   "metadata": {},
   "outputs": [
    {
     "data": {
      "text/html": [
       "<div>\n",
       "<style scoped>\n",
       "    .dataframe tbody tr th:only-of-type {\n",
       "        vertical-align: middle;\n",
       "    }\n",
       "\n",
       "    .dataframe tbody tr th {\n",
       "        vertical-align: top;\n",
       "    }\n",
       "\n",
       "    .dataframe thead th {\n",
       "        text-align: right;\n",
       "    }\n",
       "</style>\n",
       "<table border=\"1\" class=\"dataframe\">\n",
       "  <thead>\n",
       "    <tr style=\"text-align: right;\">\n",
       "      <th></th>\n",
       "      <th>Judul</th>\n",
       "      <th>Tanggal</th>\n",
       "      <th>Penulis</th>\n",
       "      <th>Isi</th>\n",
       "      <th>Link Lengkap</th>\n",
       "      <th>tokenized</th>\n",
       "    </tr>\n",
       "  </thead>\n",
       "  <tbody>\n",
       "    <tr>\n",
       "      <th>0</th>\n",
       "      <td>Kata Ganjar soal Nasaruddin Umar Mencuat Jadi ...</td>\n",
       "      <td>2023-05-18 11:52:38</td>\n",
       "      <td>['Https', 'Www.Facebook.Com Detikcom', 'Antara...</td>\n",
       "      <td>imam besar masjid istiqlal, nasaruddin umar, m...</td>\n",
       "      <td>https://news.detik.com/pemilu/d-6726464/kata-g...</td>\n",
       "      <td>[imam, besar, masjid, istiqlal, nasaruddin, um...</td>\n",
       "    </tr>\n",
       "    <tr>\n",
       "      <th>1</th>\n",
       "      <td>Anies Usai Bertemu Paloh: Kita Makin Yakin Kea...</td>\n",
       "      <td>2023-05-18 11:43:50</td>\n",
       "      <td>['Rumondang Naibaho', 'Https', 'Www.Facebook.C...</td>\n",
       "      <td>anies baswedan bicara soal keadilan usai berte...</td>\n",
       "      <td>https://news.detik.com/pemilu/d-6726440/anies-...</td>\n",
       "      <td>[anies, baswedan, bicara, soal, keadilan, usai...</td>\n",
       "    </tr>\n",
       "    <tr>\n",
       "      <th>2</th>\n",
       "      <td>Penjelasan Lengkap TNI Tepis Hoax Video Pangli...</td>\n",
       "      <td>2023-05-18 12:06:16</td>\n",
       "      <td>['Tim Detikcom', 'Https', 'Www.Facebook.Com De...</td>\n",
       "      <td>beredar sebuah video yang dinarasikan panglima...</td>\n",
       "      <td>https://news.detik.com/berita/d-6726472/penjel...</td>\n",
       "      <td>[beredar, sebuah, video, yang, dinarasikan, pa...</td>\n",
       "    </tr>\n",
       "    <tr>\n",
       "      <th>3</th>\n",
       "      <td>Heboh Dokter Ribut di Karen's Diner Bali, Mana...</td>\n",
       "      <td>2023-05-18 12:17:32</td>\n",
       "      <td>['Tim Detikcom', 'Https', 'Www.Facebook.Com De...</td>\n",
       "      <td>seorang dokter inisial tk terlibat keributan d...</td>\n",
       "      <td>https://news.detik.com/berita/d-6726491/heboh-...</td>\n",
       "      <td>[seorang, dokter, inisial, tk, terlibat, kerib...</td>\n",
       "    </tr>\n",
       "    <tr>\n",
       "      <th>4</th>\n",
       "      <td>Cerita Manajer Timnas U-22 Kombes Sumardji Ken...</td>\n",
       "      <td>2023-05-17 13:03:21</td>\n",
       "      <td>['Audrey Santoso', 'Https', 'Www.Facebook.Com ...</td>\n",
       "      <td>sosok kombes sumardji menjadi sorotan lantaran...</td>\n",
       "      <td>https://news.detik.com/berita/d-6724870/cerita...</td>\n",
       "      <td>[sosok, kombes, sumardji, menjadi, sorotan, la...</td>\n",
       "    </tr>\n",
       "  </tbody>\n",
       "</table>\n",
       "</div>"
      ],
      "text/plain": [
       "                                               Judul              Tanggal   \n",
       "0  Kata Ganjar soal Nasaruddin Umar Mencuat Jadi ...  2023-05-18 11:52:38  \\\n",
       "1  Anies Usai Bertemu Paloh: Kita Makin Yakin Kea...  2023-05-18 11:43:50   \n",
       "2  Penjelasan Lengkap TNI Tepis Hoax Video Pangli...  2023-05-18 12:06:16   \n",
       "3  Heboh Dokter Ribut di Karen's Diner Bali, Mana...  2023-05-18 12:17:32   \n",
       "4  Cerita Manajer Timnas U-22 Kombes Sumardji Ken...  2023-05-17 13:03:21   \n",
       "\n",
       "                                             Penulis   \n",
       "0  ['Https', 'Www.Facebook.Com Detikcom', 'Antara...  \\\n",
       "1  ['Rumondang Naibaho', 'Https', 'Www.Facebook.C...   \n",
       "2  ['Tim Detikcom', 'Https', 'Www.Facebook.Com De...   \n",
       "3  ['Tim Detikcom', 'Https', 'Www.Facebook.Com De...   \n",
       "4  ['Audrey Santoso', 'Https', 'Www.Facebook.Com ...   \n",
       "\n",
       "                                                 Isi   \n",
       "0  imam besar masjid istiqlal, nasaruddin umar, m...  \\\n",
       "1  anies baswedan bicara soal keadilan usai berte...   \n",
       "2  beredar sebuah video yang dinarasikan panglima...   \n",
       "3  seorang dokter inisial tk terlibat keributan d...   \n",
       "4  sosok kombes sumardji menjadi sorotan lantaran...   \n",
       "\n",
       "                                        Link Lengkap   \n",
       "0  https://news.detik.com/pemilu/d-6726464/kata-g...  \\\n",
       "1  https://news.detik.com/pemilu/d-6726440/anies-...   \n",
       "2  https://news.detik.com/berita/d-6726472/penjel...   \n",
       "3  https://news.detik.com/berita/d-6726491/heboh-...   \n",
       "4  https://news.detik.com/berita/d-6724870/cerita...   \n",
       "\n",
       "                                           tokenized  \n",
       "0  [imam, besar, masjid, istiqlal, nasaruddin, um...  \n",
       "1  [anies, baswedan, bicara, soal, keadilan, usai...  \n",
       "2  [beredar, sebuah, video, yang, dinarasikan, pa...  \n",
       "3  [seorang, dokter, inisial, tk, terlibat, kerib...  \n",
       "4  [sosok, kombes, sumardji, menjadi, sorotan, la...  "
      ]
     },
     "execution_count": 35,
     "metadata": {},
     "output_type": "execute_result"
    }
   ],
   "source": [
    "df['Isi'].dropna(inplace=True)\n",
    "df['Isi'] = df['Isi'].astype(str)\n",
    "df.head()"
   ]
  },
  {
   "cell_type": "code",
   "execution_count": 38,
   "metadata": {},
   "outputs": [
    {
     "data": {
      "text/html": [
       "<div>\n",
       "<style scoped>\n",
       "    .dataframe tbody tr th:only-of-type {\n",
       "        vertical-align: middle;\n",
       "    }\n",
       "\n",
       "    .dataframe tbody tr th {\n",
       "        vertical-align: top;\n",
       "    }\n",
       "\n",
       "    .dataframe thead th {\n",
       "        text-align: right;\n",
       "    }\n",
       "</style>\n",
       "<table border=\"1\" class=\"dataframe\">\n",
       "  <thead>\n",
       "    <tr style=\"text-align: right;\">\n",
       "      <th></th>\n",
       "      <th>tokenized</th>\n",
       "    </tr>\n",
       "  </thead>\n",
       "  <tbody>\n",
       "    <tr>\n",
       "      <th>0</th>\n",
       "      <td>[]</td>\n",
       "    </tr>\n",
       "    <tr>\n",
       "      <th>1</th>\n",
       "      <td>[]</td>\n",
       "    </tr>\n",
       "    <tr>\n",
       "      <th>2</th>\n",
       "      <td>[]</td>\n",
       "    </tr>\n",
       "    <tr>\n",
       "      <th>3</th>\n",
       "      <td>[]</td>\n",
       "    </tr>\n",
       "    <tr>\n",
       "      <th>4</th>\n",
       "      <td>[]</td>\n",
       "    </tr>\n",
       "  </tbody>\n",
       "</table>\n",
       "</div>"
      ],
      "text/plain": [
       "  tokenized\n",
       "0        []\n",
       "1        []\n",
       "2        []\n",
       "3        []\n",
       "4        []"
      ]
     },
     "execution_count": 38,
     "metadata": {},
     "output_type": "execute_result"
    }
   ],
   "source": [
    "df['tokenized'] = df.apply(lambda x: tokenize(x['Isi']), axis=1)\n",
    "df[['tokenized']].head()"
   ]
  },
  {
   "attachments": {},
   "cell_type": "markdown",
   "metadata": {},
   "source": [
    "## TF-IDF"
   ]
  },
  {
   "cell_type": "code",
   "execution_count": 39,
   "metadata": {},
   "outputs": [],
   "source": [
    "from sklearn.feature_extraction.text import TfidfVectorizer"
   ]
  },
  {
   "cell_type": "code",
   "execution_count": 41,
   "metadata": {},
   "outputs": [
    {
     "data": {
      "text/plain": [
       "array([[0.        , 0.        , 0.        , ..., 0.        , 0.        ,\n",
       "        0.        ],\n",
       "       [0.        , 0.        , 0.        , ..., 0.        , 0.07750716,\n",
       "        0.        ],\n",
       "       [0.        , 0.        , 0.        , ..., 0.        , 0.        ,\n",
       "        0.        ],\n",
       "       ...,\n",
       "       [0.        , 0.        , 0.        , ..., 0.        , 0.        ,\n",
       "        0.        ],\n",
       "       [0.        , 0.        , 0.        , ..., 0.        , 0.        ,\n",
       "        0.        ],\n",
       "       [0.        , 0.        , 0.        , ..., 0.        , 0.        ,\n",
       "        0.        ]])"
      ]
     },
     "execution_count": 41,
     "metadata": {},
     "output_type": "execute_result"
    }
   ],
   "source": [
    "v = TfidfVectorizer()\n",
    "tfidf_text = v.fit_transform(df['Isi'])\n",
    "df_tfidf = tfidf_text.toarray()\n",
    "df_tfidf"
   ]
  }
 ],
 "metadata": {
  "kernelspec": {
   "display_name": "data_scraping",
   "language": "python",
   "name": "python3"
  },
  "language_info": {
   "codemirror_mode": {
    "name": "ipython",
    "version": 3
   },
   "file_extension": ".py",
   "mimetype": "text/x-python",
   "name": "python",
   "nbconvert_exporter": "python",
   "pygments_lexer": "ipython3",
   "version": "3.11.1"
  },
  "orig_nbformat": 4
 },
 "nbformat": 4,
 "nbformat_minor": 2
}
